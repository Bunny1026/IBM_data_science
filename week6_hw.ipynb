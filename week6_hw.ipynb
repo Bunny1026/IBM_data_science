{
 "cells": [
  {
   "cell_type": "markdown",
   "id": "317013f7",
   "metadata": {},
   "source": [
    "## Week 6 Homework GYC"
   ]
  },
  {
   "cell_type": "markdown",
   "id": "f8642346",
   "metadata": {},
   "source": [
    "### Intro:\n",
    "This is the final assignemnt of week6 for Tools for DS"
   ]
  },
  {
   "cell_type": "markdown",
   "id": "678f858b",
   "metadata": {},
   "source": [
    "### List of DS Languages\n",
    "- R.\n",
    "- SQL.\n",
    "- Java.\n",
    "- Julia.\n",
    "- Scala.\n",
    "- JavaScript.\n",
    "- Swift."
   ]
  },
  {
   "cell_type": "markdown",
   "id": "45faa774",
   "metadata": {},
   "source": [
    "### Data Science Libraries for Python\n",
    "- Numpy\n",
    "- Pandas\n",
    "- Metplotlib\n",
    "- Scikit-learn\n",
    "- Tensorflow\n",
    "- PyTorch\n",
    "- Seaborn"
   ]
  },
  {
   "cell_type": "markdown",
   "id": "1ae0fc57",
   "metadata": {},
   "source": [
    "### Table of DS tools\n",
    "\n",
    "| Tool Name          | Purpose                                  | Language     | Type      |\n",
    "|--------------------|------------------------------------------|--------------|-----------|\n",
    "| Python             | General-purpose programming language     | Python       | Language  |\n",
    "| R                  | Statistical computing and graphics       | R            | Language  |\n",
    "| Jupyter Notebook   | Interactive computing environment        | Python       | IDE       |\n",
    "| RStudio            | Integrated development environment       | R            | IDE       |\n",
    "| NumPy              | Numerical computing library              | Python       | Library   |\n",
    "| pandas             | Data manipulation library                | Python       | Library   |\n",
    "| scikit-learn       | Machine learning library                 | Python       | Library   |\n",
    "| TensorFlow         | Deep learning framework                  | Python       | Library   |\n",
    "| PyTorch            | Deep learning framework                  | Python       | Library   |\n",
    "| Matplotlib         | Data visualization library               | Python       | Library   |\n",
    "| Seaborn            | Statistical data visualization           | Python       | Library   |\n",
    "| Plotly             | Interactive data visualization           | Python       | Library   |\n",
    "| Tableau            | Business intelligence and visualization  | Proprietary  | Tool      |\n"
   ]
  },
  {
   "cell_type": "markdown",
   "id": "da93e07c",
   "metadata": {},
   "source": [
    "### Create a markdown cell introducing arithmetic expression examples.\n",
    "\n",
    "1. **Addition**: `a + b`\n",
    "2. **Subtraction**: `a - b`\n",
    "3. **Multiplication**: `a * b`\n",
    "4. **Division**: `a / b`\n",
    "5. **Floor Division**: `a // b`\n",
    "6. **Modulo** (remainder after division): `a % b`\n",
    "7. **Exponentiation**: `a ** b`\n"
   ]
  },
  {
   "cell_type": "code",
   "execution_count": 2,
   "id": "eddca027",
   "metadata": {},
   "outputs": [
    {
     "name": "stdout",
     "output_type": "stream",
     "text": [
      "7\n",
      "12\n"
     ]
    }
   ],
   "source": [
    "# code cell to multiply and add numbers.\n",
    "x = 3\n",
    "y = 4\n",
    "result = x+y\n",
    "print(result)\n",
    "\n",
    "result2 = x*y\n",
    "print(result2)"
   ]
  },
  {
   "cell_type": "code",
   "execution_count": 4,
   "id": "4caab44b",
   "metadata": {},
   "outputs": [
    {
     "name": "stdout",
     "output_type": "stream",
     "text": [
      "90 minutes in hours: 1.50 Hours\n"
     ]
    }
   ],
   "source": [
    "# Create a code cell to convert minutes to hours.\n",
    "minutes = 90\n",
    "hours = minutes / 60\n",
    "print(minutes,\"minutes in hours: {:.2f} Hours\".format(hours))\n"
   ]
  },
  {
   "cell_type": "markdown",
   "id": "49d01739",
   "metadata": {},
   "source": [
    "## Objectives\n",
    "\n",
    "1. Understand the basics of Python programming.\n",
    "2. Learn data manipulation using pandas.\n",
    "3. Explore data visualization techniques with Matplotlib and Seaborn.\n",
    "4. Implement machine learning algorithms using scikit-learn.\n",
    "5. Dive deep into neural networks with TensorFlow and PyTorch.\n"
   ]
  },
  {
   "cell_type": "markdown",
   "id": "618fcdb8",
   "metadata": {},
   "source": [
    "## Name:  Karena Guo"
   ]
  },
  {
   "cell_type": "markdown",
   "id": "d9e08351",
   "metadata": {},
   "source": [
    "## Github Link: \n",
    "https://github.com/Bunny1026/IBM_data_science/blob/8a1e48a9cdb4e4625a42a79cb6cd14f8a265c303/week6_hw.ipynb"
   ]
  },
  {
   "cell_type": "markdown",
   "id": "c78bb860",
   "metadata": {},
   "source": [
    "## Picture of Notebook\n",
    "\n",
    "![Alt text](https://drive.google.com/file/d/12PtEvNePGORI4U5hHks5UiCtuI4-aTGZ/view?usp=sharing)"
   ]
  }
 ],
 "metadata": {
  "kernelspec": {
   "display_name": "Python 3",
   "language": "python",
   "name": "python3"
  },
  "language_info": {
   "codemirror_mode": {
    "name": "ipython",
    "version": 3
   },
   "file_extension": ".py",
   "mimetype": "text/x-python",
   "name": "python",
   "nbconvert_exporter": "python",
   "pygments_lexer": "ipython3",
   "version": "3.8.8"
  }
 },
 "nbformat": 4,
 "nbformat_minor": 5
}
